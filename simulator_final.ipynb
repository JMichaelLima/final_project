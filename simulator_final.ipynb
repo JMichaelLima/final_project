{
 "cells": [
  {
   "cell_type": "code",
   "execution_count": 6,
   "metadata": {},
   "outputs": [],
   "source": [
    "import openai\n",
    "import requests\n",
    "import os\n",
    "import json\n",
    "from concurrent.futures import ThreadPoolExecutor\n",
    "import random\n",
    "\n",
    "# API key configuration from .env file in the root directory\n",
    "api_key = os.getenv(\"OPENAI_API_KEY\")\n",
    "\n",
    "# Models configuration \n",
    "model_config = {\n",
    "    'chat_model': {\"options\": [\"gpt-3.5-turbo-0125\", \"gpt-4-turbo-2024-04-09\"], \"selected\": 1},\n",
    "    'audio_model': {\"options\": [\"tts-1\", \"tts-1-hd\"], \"selected\": 1},\n",
    "    'image_model': {\"options\": [\"dall-e-2\", \"dall-e-3\"], \"selected\": 1}\n",
    "}\n",
    "\n",
    "\n",
    "def initialize_openai():\n",
    "    \"\"\"Initialize the OpenAI client with the configured API key.\"\"\"\n",
    "    return openai.OpenAI(api_key=api_key)\n",
    "\n",
    "\n",
    "client = initialize_openai()"
   ]
  },
  {
   "cell_type": "code",
   "execution_count": 7,
   "metadata": {},
   "outputs": [],
   "source": [
    "def select_random_genre():\n",
    "    \"\"\"Selects a random genre and a random starting scene from predefined options.\"\"\"\n",
    "\n",
    "    genres_data = {\n",
    "        \"genres\": [\n",
    "            {\n",
    "                \"name\": \"Adventure\",\n",
    "                \"writer\": \"Robert Louis Stevenson\",\n",
    "                \"artist\": \"A Renaissance painter of great renown\",\n",
    "                \"initial_scene_description\": \"Amidst the verdant embrace of a tropical island, you stand at the threshold of an ancient path that twists eastward beneath the towering canopy. Every leaf and vine is painted with the vivid hues that only the stroke of nature, and perhaps a Renaissance master, could conceive. This path, carpeted with fallen blossoms and the detritus of many rains, beckons you deeper into its secrets and away from the sound of the distant surf.\",\n",
    "                \"voice\": \"onyx\",\n",
    "                \"time\": \"6:45 AM\"\n",
    "            },\n",
    "            {\n",
    "                \"name\": \"Horror\",\n",
    "                \"writer\": \"Edgar Allan Poe\",\n",
    "                \"artist\": \"a daguerreotype photographer of great renown\",\n",
    "                \"initial_scene_description\": \"The chill of an overcast day in a deserted seaside town grips your bones as you find yourself at the mouth of a narrow alley. This alley, like a forgotten vein of the old town, runs north into the heart of an encroaching fog that seems almost alive. The monochrome hues of the abandoned shops and homes around you suggest the silvered daguerreotypes of a time long past, each window and shadow capturing the essence of a ghost story waiting to be told.\",\n",
    "                \"voice\": \"shimmer\",\n",
    "                \"time\": \"7:00 PM\"\n",
    "            },\n",
    "            {\n",
    "                \"name\": \"Science Fiction\",\n",
    "                \"writer\": \"Neal Stephenson\",\n",
    "                \"artist\": \"H. R. Giger\",\n",
    "                \"initial_scene_description\": \"You find yourself standing at the edge of a vast, desolate plaza. The skeletons of towering skyscrapers loom like sentinels around the perimeter, their once-gleaming facades now dulled and pitted by the relentless passage of time. To the east, a monolithic structure's shattered glass creates a mosaic of reflections from the weak, diffused sunlight filtering through the dense overcast sky. A weathered road, cracked and overgrown with resilient flora, offers a path eastward, winding through the heart of this ghostly metropolis.\",\n",
    "                \"voice\": \"onyx\",\n",
    "                \"time\": \"12:00 PM\"\n",
    "            }\n",
    "        ]\n",
    "    }\n",
    "\n",
    "    random_genre = random.choice(genres_data[\"genres\"])\n",
    "\n",
    "    story_data = {\n",
    "        'name': random_genre[\"name\"],\n",
    "        'writer': random_genre[\"writer\"],\n",
    "        'artist': random_genre[\"artist\"],\n",
    "        'initial_scene_description': random_genre[\"initial_scene_description\"],\n",
    "        'time': random_genre[\"time\"],\n",
    "        'voice': random_genre[\"voice\"],\n",
    "        'previous_scene': '',\n",
    "        'player_move': '',\n",
    "    }\n",
    "\n",
    "    print(json.dumps(story_data, indent=4))\n",
    "    return story_data"
   ]
  },
  {
   "cell_type": "code",
   "execution_count": 8,
   "metadata": {},
   "outputs": [],
   "source": [
    "def generate_prompt(story_data):\n",
    "    \"\"\"\n",
    "    Generates a prompt for the client based on the story_data.\n",
    "    \n",
    "    Args:\n",
    "        story_data (dict): A dictionary containing details about the selected genre, including writer, name, and scene descriptions.\n",
    "    \n",
    "    Returns:\n",
    "        list: A list containing the constructed prompt as a dictionary.\n",
    "    \"\"\"\n",
    "    # Determine the scene description and back option based on the presence of a previous scene\n",
    "    if story_data['previous_scene'].strip():\n",
    "        scene_description = f\"a previous game scene which read {story_data['previous_scene']} and the player chose to move {story_data['player_move']}.\"\n",
    "        back_option = \"Additionally, include an option to 'back', allowing the player to go back to the previous location.\"\n",
    "    else:\n",
    "        scene_description = story_data['initial_scene_description']\n",
    "        back_option = \"This scene should not offer the player a 'back' option, as it is the starting location of the game.\"\n",
    "    \n",
    "    foundation_prompt = f\"You are {story_data['writer']}, writing a {story_data['name']} text game in your literary style for a twelve-year-old. The scene to write is based on {scene_description} at {story_data['time']}. Do not name the player or give them any tools or weapons. Please return a detailed JSON object with keys for 'story', 'scene_description', and 'player_options'. The JSON object structure must be as follows: \"\n",
    "\n",
    "    data_shape_prompt = f\"The scene description is to be used by Dall-E to generate a visualization of the story you are generating from the player's first-person perspective. The scene description should be detailed and vivid. Always feature at least one path for the player to move in. The scene_description MUST be under 500 characters. The player options should include only those directions that are explicitly mentioned in the scene description (e.g., if the scene describes a pathway leading forward, only 'forward' should be an option). {back_option} 'player_options' should be structured as an object with a 'direction' key which should be an array containing the direction (the options here are 'forward', 'left', 'right', 'back' only) and a 'command text' like ['forward', 'Continue down alley'], consisting of three words maximum and a 'transition_text' key. The transition_text should describe the action of moving in that direction as it happens, like 'As you step forward, your shoes echo on the cobblestone, piercing the silence as the fog envelops you like a cold embrace.' Keep these texts to one or two sentences. JSON object structure must be as follows: story, scene_description, player_options. player_options should contain 'directions' which will have all available directions that player can move. each direction should contain the 'direction', 'command_text', and 'transition_text'.\"\n",
    "\n",
    "    # Construct the client prompt\n",
    "    prompt = [{\n",
    "        \"role\": \"system\",\n",
    "        \"content\": f\"{foundation_prompt} {data_shape_prompt}\"\n",
    "    }]\n",
    "    \n",
    "    return prompt\n"
   ]
  },
  {
   "cell_type": "code",
   "execution_count": 9,
   "metadata": {},
   "outputs": [],
   "source": [
    "def generate_content(client, prompt):\n",
    "    \"\"\"Fetch content from OpenAI based on an initial prompt and return a detailed JSON object.\"\"\"\n",
    "    response = client.chat.completions.create(\n",
    "        model=model_config['chat_model']['options'][model_config['chat_model']['selected']],\n",
    "        messages=prompt,\n",
    "        response_format={\"type\": \"json_object\"}\n",
    "    )\n",
    "    if response.choices[0].finish_reason != 'length':\n",
    "        content = json.loads(response.choices[0].message.content)\n",
    "        # Verify all expected keys are in the response\n",
    "        expected_keys = {'story', 'scene_description', 'player_options'}\n",
    "        if not expected_keys <= content.keys():\n",
    "            raise ValueError(\"Some expected keys are missing in the response\")\n",
    "        # Pretty print the JSON content\n",
    "        print(json.dumps(content, indent=4))\n",
    "        return content\n",
    "    else:\n",
    "        raise ValueError(\"Response was cut off due to length limit.\")\n"
   ]
  },
  {
   "cell_type": "code",
   "execution_count": 11,
   "metadata": {},
   "outputs": [
    {
     "name": "stdout",
     "output_type": "stream",
     "text": [
      "{\n",
      "    \"name\": \"Horror\",\n",
      "    \"writer\": \"Edgar Allan Poe\",\n",
      "    \"artist\": \"a daguerreotype photographer of great renown\",\n",
      "    \"initial_scene_description\": \"The chill of an overcast day in a deserted seaside town grips your bones as you find yourself at the mouth of a narrow alley. This alley, like a forgotten vein of the old town, runs north into the heart of an encroaching fog that seems almost alive. The monochrome hues of the abandoned shops and homes around you suggest the silvered daguerreotypes of a time long past, each window and shadow capturing the essence of a ghost story waiting to be told.\",\n",
      "    \"time\": \"7:00 PM\",\n",
      "    \"voice\": \"shimmer\",\n",
      "    \"previous_scene\": \"\",\n",
      "    \"player_move\": \"\"\n",
      "}\n"
     ]
    }
   ],
   "source": [
    "story_data = select_random_genre()"
   ]
  },
  {
   "cell_type": "code",
   "execution_count": 12,
   "metadata": {},
   "outputs": [],
   "source": [
    "def generate_audio(description, voice):\n",
    "    url = \"https://api.openai.com/v1/audio/speech\"\n",
    "    headers = {\"Authorization\": f\"Bearer {api_key}\",\n",
    "               \"Content-Type\": \"application/json\"}\n",
    "    data = {\"model\": model_config['audio_model']['options']\n",
    "            [model_config['audio_model']['selected']], \"input\": description, \"voice\": voice}\n",
    "    response = requests.post(url, json=data, headers=headers)\n",
    "    if response.status_code == 200:\n",
    "        with open('output_3.mp3', 'wb') as f:\n",
    "            f.write(response.content)\n",
    "        return \"Audio has been saved as output.mp3\"\n",
    "    return \"Failed to synthesize speech\"\n"
   ]
  },
  {
   "cell_type": "code",
   "execution_count": 13,
   "metadata": {},
   "outputs": [],
   "source": [
    "def generate_image(description, artist):\n",
    "    url = \"https://api.openai.com/v1/images/generations\"\n",
    "    headers = {\"Authorization\": f\"Bearer {api_key}\",\n",
    "               \"Content-Type\": \"application/json\"}\n",
    "    data = {\n",
    "        \"model\": model_config['image_model']['options'][model_config['image_model']['selected']],\n",
    "        \"prompt\": f\"You are {artist} creating this scene: {description} for a text adventure game. The image should be from the eyeline of the player and very true to the description. The painting should include all aspects of the description, and always include any mentioned paths or walkways. All pathways MUST be shown PROMINENTLY. No text should be included in the image.\",\n",
    "        \"size\": \"1024x1024\",\n",
    "        \"n\": 1,\n",
    "        \"response_format\": \"url\"\n",
    "    }\n",
    "\n",
    "    # Making the API call\n",
    "    response = requests.post(url, json=data, headers=headers)\n",
    "    if response.status_code == 200:\n",
    "        image_url = response.json()['data'][0]['url']\n",
    "        image_response = requests.get(image_url)\n",
    "        if image_response.status_code == 200:\n",
    "            image_path = 'scene_image_3.png'\n",
    "            with open(image_path, 'wb') as f:\n",
    "                f.write(image_response.content)\n",
    "            return f\"Image has been saved as {image_path}\"\n",
    "        else:\n",
    "            return \"Failed to download the image\"\n",
    "    else:\n",
    "        return f\"Failed to generate image: {response.status_code}, {response.text}\""
   ]
  },
  {
   "cell_type": "code",
   "execution_count": 14,
   "metadata": {},
   "outputs": [
    {
     "name": "stdout",
     "output_type": "stream",
     "text": [
      "[{'role': 'system', 'content': \"You are Edgar Allan Poe, writing a Horror text game in your literary style for a twelve-year-old. The scene to write is based on The chill of an overcast day in a deserted seaside town grips your bones as you find yourself at the mouth of a narrow alley. This alley, like a forgotten vein of the old town, runs north into the heart of an encroaching fog that seems almost alive. The monochrome hues of the abandoned shops and homes around you suggest the silvered daguerreotypes of a time long past, each window and shadow capturing the essence of a ghost story waiting to be told. at 7:00 PM. Do not name the player or give them any tools or weapons. Please return a detailed JSON object with keys for 'story', 'scene_description', and 'player_options'. The JSON object structure must be as follows:  The scene description is to be used by Dall-E to generate a visualization of the story you are generating from the player's first-person perspective. The scene description should be detailed and vivid. Always feature at least one path for the player to move in. The scene_description MUST be under 500 characters. The player options should include only those directions that are explicitly mentioned in the scene description (e.g., if the scene describes a pathway leading forward, only 'forward' should be an option). This scene should not offer the player a 'back' option, as it is the starting location of the game. 'player_options' should be structured as an object with a 'direction' key which should be an array containing the direction (the options here are 'forward', 'left', 'right', 'back' only) and a 'command text' like ['forward', 'Continue down alley'], consisting of three words maximum and a 'transition_text' key. The transition_text should describe the action of moving in that direction as it happens, like 'As you step forward, your shoes echo on the cobblestone, piercing the silence as the fog envelops you like a cold embrace.' Keep these texts to one or two sentences. JSON object structure must be as follows: story, scene_description, player_options. player_options should contain 'directions' which will have all available directions that player can move. each direction should contain the 'direction', 'command_text', and 'transition_text'.\"}]\n"
     ]
    }
   ],
   "source": [
    "generated_prompt = generate_prompt(story_data)\n",
    "print(generated_prompt)"
   ]
  },
  {
   "cell_type": "code",
   "execution_count": 15,
   "metadata": {},
   "outputs": [
    {
     "name": "stdout",
     "output_type": "stream",
     "text": [
      "{\n",
      "    \"story\": \"As the last rays of a cheerless sun retreat behind the clouded horizon, you find yourself standing at the entrance of an obscure, narrow alley in a long-deserted seaside town. The chilly air and the oppressive silence amplify the mysterious allure of the fog that thickens with every passing moment, clawing its way through the empty streets. The desolated buildings lining either side of the alley whisper tales of yesteryears, their muted colors and eerie stillness painting a scene of forgotten sorrow and dread.\",\n",
      "    \"scene_description\": \"A narrow alley stretches from a deserted seaside town into an encroaching, seemingly alive fog. Abandoned shops and homes line the path, their empty windows and shadows under a monochrome sky evoke a ghostly ambiance. No signs of life, only the quiet and a chilling breeze.\",\n",
      "    \"player_options\": {\n",
      "        \"directions\": [\n",
      "            {\n",
      "                \"direction\": \"forward\",\n",
      "                \"command_text\": \"Continue down alley\",\n",
      "                \"transition_text\": \"As you step forward, your shoes echo on the cobblestone, piercing the silence as the fog envelops you like a cold embrace.\"\n",
      "            }\n",
      "        ]\n",
      "    }\n",
      "}\n"
     ]
    }
   ],
   "source": [
    "scene = generate_content(client, generated_prompt)"
   ]
  },
  {
   "cell_type": "code",
   "execution_count": 16,
   "metadata": {},
   "outputs": [
    {
     "data": {
      "text/plain": [
       "'Audio has been saved as output.mp3'"
      ]
     },
     "execution_count": 16,
     "metadata": {},
     "output_type": "execute_result"
    }
   ],
   "source": [
    "generate_audio(scene['story'], story_data['voice'])"
   ]
  },
  {
   "cell_type": "code",
   "execution_count": 17,
   "metadata": {},
   "outputs": [
    {
     "data": {
      "text/plain": [
       "'Image has been saved as scene_image_3.png'"
      ]
     },
     "execution_count": 17,
     "metadata": {},
     "output_type": "execute_result"
    }
   ],
   "source": [
    "generate_image(scene['scene_description'], story_data['artist'])"
   ]
  },
  {
   "cell_type": "code",
   "execution_count": 18,
   "metadata": {},
   "outputs": [],
   "source": [
    "story_data['previous_scene'] = scene['story']\n",
    "story_data['player_move'] = \"forward\"\n",
    "generated_prompt = generate_prompt(story_data)"
   ]
  },
  {
   "cell_type": "code",
   "execution_count": 19,
   "metadata": {},
   "outputs": [
    {
     "name": "stdout",
     "output_type": "stream",
     "text": [
      "[{'role': 'system', 'content': \"You are Edgar Allan Poe, writing a Horror text game in your literary style for a twelve-year-old. The scene to write is based on a previous game scene which read As the last rays of a cheerless sun retreat behind the clouded horizon, you find yourself standing at the entrance of an obscure, narrow alley in a long-deserted seaside town. The chilly air and the oppressive silence amplify the mysterious allure of the fog that thickens with every passing moment, clawing its way through the empty streets. The desolated buildings lining either side of the alley whisper tales of yesteryears, their muted colors and eerie stillness painting a scene of forgotten sorrow and dread. and the player chose to move forward. at 7:00 PM. Do not name the player or give them any tools or weapons. Please return a detailed JSON object with keys for 'story', 'scene_description', and 'player_options'. The JSON object structure must be as follows:  The scene description is to be used by Dall-E to generate a visualization of the story you are generating from the player's first-person perspective. The scene description should be detailed and vivid. Always feature at least one path for the player to move in. The scene_description MUST be under 500 characters. The player options should include only those directions that are explicitly mentioned in the scene description (e.g., if the scene describes a pathway leading forward, only 'forward' should be an option). Additionally, include an option to 'back', allowing the player to go back to the previous location. 'player_options' should be structured as an object with a 'direction' key which should be an array containing the direction (the options here are 'forward', 'left', 'right', 'back' only) and a 'command text' like ['forward', 'Continue down alley'], consisting of three words maximum and a 'transition_text' key. The transition_text should describe the action of moving in that direction as it happens, like 'As you step forward, your shoes echo on the cobblestone, piercing the silence as the fog envelops you like a cold embrace.' Keep these texts to one or two sentences. JSON object structure must be as follows: story, scene_description, player_options. player_options should contain 'directions' which will have all available directions that player can move. each direction should contain the 'direction', 'command_text', and 'transition_text'.\"}]\n"
     ]
    }
   ],
   "source": [
    "print(generated_prompt)"
   ]
  },
  {
   "cell_type": "code",
   "execution_count": 20,
   "metadata": {},
   "outputs": [
    {
     "name": "stdout",
     "output_type": "stream",
     "text": [
      "{\n",
      "    \"story\": \"As you march deeper into the shadow-ridden corridor of the alley, an eerie chill seems to seep through your very bones. The flickering of an old gaslight, hanging precariously at a bend further ahead, casts ghostly shadows that dance upon the decrepit walls. The narrow path, bounded by the looming, derelict structures, beckons you silently under the cloak of an ever-thickening fog. Its wisps whisper secrets of forgotten tales and hidden fears. No sound dares break the haunting silence save for your solitary footsteps, which resound with a hollow echo against the ancient cobblestones. Mysterious inscriptions etched onto the walls near the gaslight seem to pulsate faintly with a timeless forewarning, urging caution with each solitary step forward.\",\n",
      "    \"scene_description\": \"A fading gaslight illuminates the dark, narrow alley lined by derelict buildings. Shadows flicker against the walls under a dense, creeping fog. Ancient cobblestones lead up to the gaslight where mysterious inscriptions can be seen.\",\n",
      "    \"player_options\": {\n",
      "        \"directions\": [\n",
      "            {\n",
      "                \"direction\": \"forward\",\n",
      "                \"command_text\": \"Continue forward\",\n",
      "                \"transition_text\": \"As you step forward, your shoes echo on the cobblestone, piercing the silence as the fog envelops you like a cold embrace.\"\n",
      "            },\n",
      "            {\n",
      "                \"direction\": \"back\",\n",
      "                \"command_text\": \"Retrace steps\",\n",
      "                \"transition_text\": \"Turning back, the haunting images of the alley recede into the fog, as you retrace your path towards the entrance.\"\n",
      "            }\n",
      "        ]\n",
      "    }\n",
      "}\n"
     ]
    }
   ],
   "source": [
    "scene = generate_content(client, generated_prompt)\n"
   ]
  },
  {
   "cell_type": "code",
   "execution_count": 21,
   "metadata": {},
   "outputs": [
    {
     "data": {
      "text/plain": [
       "'Audio has been saved as output.mp3'"
      ]
     },
     "execution_count": 21,
     "metadata": {},
     "output_type": "execute_result"
    }
   ],
   "source": [
    "generate_audio(scene['story'], story_data['voice'])\n"
   ]
  },
  {
   "cell_type": "code",
   "execution_count": 22,
   "metadata": {},
   "outputs": [
    {
     "data": {
      "text/plain": [
       "'Image has been saved as scene_image_3.png'"
      ]
     },
     "execution_count": 22,
     "metadata": {},
     "output_type": "execute_result"
    }
   ],
   "source": [
    "generate_image(scene['scene_description'], story_data['artist'])"
   ]
  },
  {
   "cell_type": "code",
   "execution_count": 23,
   "metadata": {},
   "outputs": [],
   "source": [
    "story_data['previous_scene'] = scene['story']\n",
    "story_data['player_move'] = \"forward\"\n",
    "generated_prompt = generate_prompt(story_data)"
   ]
  },
  {
   "cell_type": "code",
   "execution_count": 24,
   "metadata": {},
   "outputs": [
    {
     "name": "stdout",
     "output_type": "stream",
     "text": [
      "[{'role': 'system', 'content': \"You are Edgar Allan Poe, writing a Horror text game in your literary style for a twelve-year-old. The scene to write is based on a previous game scene which read As you march deeper into the shadow-ridden corridor of the alley, an eerie chill seems to seep through your very bones. The flickering of an old gaslight, hanging precariously at a bend further ahead, casts ghostly shadows that dance upon the decrepit walls. The narrow path, bounded by the looming, derelict structures, beckons you silently under the cloak of an ever-thickening fog. Its wisps whisper secrets of forgotten tales and hidden fears. No sound dares break the haunting silence save for your solitary footsteps, which resound with a hollow echo against the ancient cobblestones. Mysterious inscriptions etched onto the walls near the gaslight seem to pulsate faintly with a timeless forewarning, urging caution with each solitary step forward. and the player chose to move forward. at 7:00 PM. Do not name the player or give them any tools or weapons. Please return a detailed JSON object with keys for 'story', 'scene_description', and 'player_options'. The JSON object structure must be as follows:  The scene description is to be used by Dall-E to generate a visualization of the story you are generating from the player's first-person perspective. The scene description should be detailed and vivid. Always feature at least one path for the player to move in. The scene_description MUST be under 500 characters. The player options should include only those directions that are explicitly mentioned in the scene description (e.g., if the scene describes a pathway leading forward, only 'forward' should be an option). Additionally, include an option to 'back', allowing the player to go back to the previous location. 'player_options' should be structured as an object with a 'direction' key which should be an array containing the direction (the options here are 'forward', 'left', 'right', 'back' only) and a 'command text' like ['forward', 'Continue down alley'], consisting of three words maximum and a 'transition_text' key. The transition_text should describe the action of moving in that direction as it happens, like 'As you step forward, your shoes echo on the cobblestone, piercing the silence as the fog envelops you like a cold embrace.' Keep these texts to one or two sentences. JSON object structure must be as follows: story, scene_description, player_options. player_options should contain 'directions' which will have all available directions that player can move. each direction should contain the 'direction', 'command_text', and 'transition_text'.\"}]\n"
     ]
    }
   ],
   "source": [
    "print(generated_prompt)"
   ]
  },
  {
   "cell_type": "code",
   "execution_count": 25,
   "metadata": {},
   "outputs": [
    {
     "name": "stdout",
     "output_type": "stream",
     "text": [
      "{\n",
      "    \"story\": \"As you decide to move forward, the corridor narrows, and despite the fear clawing at your senses, an intense curiosity propels you onward. There is a palpable shift in the air as you approach the foreboding end of the alley. A faint, almost indiscernible light flickers in the distance, grasping at the edges of darkness, casting eerie, elongated shadows that seem almost sentient. The chilling silence is suddenly punctuated by a soft whisper, as though the night itself spoke in hushed, spectral breaths. The ground beneath your feet feels unsteady, and the faint inscriptions, growing ever more vivid, seem to writhe under the dim glow of the distant light.\",\n",
      "    \"scene_description\": \"A narrow, shadow-ridden corridor ends at a flickering light in the distance. The ground feels unsteady, and eerie shadows stretch across the walls. Faint, pulsating inscriptions grow vivid beneath the dim, distant light.\",\n",
      "    \"player_options\": {\n",
      "        \"directions\": [\n",
      "            {\n",
      "                \"direction\": \"forward\",\n",
      "                \"command_text\": \"Move forward\",\n",
      "                \"transition_text\": \"With a hesitant, yet determined step, you push deeper into the narrow corridor, your heart pounding against the chilling whispers of the alley.\"\n",
      "            },\n",
      "            {\n",
      "                \"direction\": \"back\",\n",
      "                \"command_text\": \"Go back\",\n",
      "                \"transition_text\": \"You retreat cautiously, the gaslight behind you flickering a goodbye as shadows swallow the path you had traversed.\"\n",
      "            }\n",
      "        ]\n",
      "    }\n",
      "}\n"
     ]
    }
   ],
   "source": [
    "scene = generate_content(client, generated_prompt)"
   ]
  },
  {
   "cell_type": "code",
   "execution_count": 26,
   "metadata": {},
   "outputs": [
    {
     "data": {
      "text/plain": [
       "'Audio has been saved as output.mp3'"
      ]
     },
     "execution_count": 26,
     "metadata": {},
     "output_type": "execute_result"
    }
   ],
   "source": [
    "generate_audio(scene['story'], story_data['voice'])"
   ]
  },
  {
   "cell_type": "code",
   "execution_count": 27,
   "metadata": {},
   "outputs": [
    {
     "data": {
      "text/plain": [
       "'Image has been saved as scene_image_3.png'"
      ]
     },
     "execution_count": 27,
     "metadata": {},
     "output_type": "execute_result"
    }
   ],
   "source": [
    "generate_image(scene['scene_description'], story_data['artist'])"
   ]
  },
  {
   "cell_type": "code",
   "execution_count": null,
   "metadata": {},
   "outputs": [],
   "source": []
  }
 ],
 "metadata": {
  "kernelspec": {
   "display_name": "base",
   "language": "python",
   "name": "python3"
  },
  "language_info": {
   "codemirror_mode": {
    "name": "ipython",
    "version": 3
   },
   "file_extension": ".py",
   "mimetype": "text/x-python",
   "name": "python",
   "nbconvert_exporter": "python",
   "pygments_lexer": "ipython3",
   "version": "3.11.5"
  }
 },
 "nbformat": 4,
 "nbformat_minor": 2
}
